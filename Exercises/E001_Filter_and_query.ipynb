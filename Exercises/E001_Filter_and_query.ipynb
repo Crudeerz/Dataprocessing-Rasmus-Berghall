{
 "cells": [
  {
   "cell_type": "markdown",
   "metadata": {},
   "source": [
    "## Exercises: Filter and query data"
   ]
  },
  {
   "cell_type": "code",
   "execution_count": 2,
   "metadata": {},
   "outputs": [],
   "source": [
    "import pandas as pd\n",
    "autos = pd.read_json(\"../Data/autos.json\")"
   ]
  },
  {
   "cell_type": "markdown",
   "metadata": {},
   "source": [
    "**Use the \"autos\" dataset to answer the following questions:**"
   ]
  },
  {
   "cell_type": "markdown",
   "metadata": {},
   "source": [
    "**Q1:** How many cars from Jaguar are in the dataset, and what is the price of the most expensive one?\n",
    "\n",
    "<details>\n",
    "<summary>Answer</summary>\n",
    "<br>\n",
    "&nbsp;&nbsp;&nbsp;count=3\n",
    "&nbsp;&nbsp;&nbsp;price=36000.0\n",
    "</details>"
   ]
  },
  {
   "cell_type": "code",
   "execution_count": 3,
   "metadata": {},
   "outputs": [
    {
     "name": "stdout",
     "output_type": "stream",
     "text": [
      "49    36000.0\n",
      "48    35550.0\n",
      "47    32250.0\n",
      "Name: price, dtype: float64\n",
      "<class 'pandas.core.frame.DataFrame'>\n",
      "Index: 3 entries, 49 to 47\n",
      "Data columns (total 26 columns):\n",
      " #   Column             Non-Null Count  Dtype  \n",
      "---  ------             --------------  -----  \n",
      " 0   aspiration         3 non-null      object \n",
      " 1   body-style         3 non-null      object \n",
      " 2   bore               3 non-null      float64\n",
      " 3   city-mpg           3 non-null      int64  \n",
      " 4   compression-ratio  3 non-null      float64\n",
      " 5   curb-weight        3 non-null      int64  \n",
      " 6   drive-wheels       3 non-null      object \n",
      " 7   engine-location    3 non-null      object \n",
      " 8   engine-size        3 non-null      int64  \n",
      " 9   engine-type        3 non-null      object \n",
      " 10  fuel-system        3 non-null      object \n",
      " 11  fuel-type          3 non-null      object \n",
      " 12  height             3 non-null      float64\n",
      " 13  highway-mpg        3 non-null      int64  \n",
      " 14  horsepower         3 non-null      float64\n",
      " 15  length             3 non-null      float64\n",
      " 16  make               3 non-null      object \n",
      " 17  normalized-losses  1 non-null      float64\n",
      " 18  num-of-cylinders   3 non-null      object \n",
      " 19  num-of-doors       3 non-null      object \n",
      " 20  peak-rpm           3 non-null      float64\n",
      " 21  price              3 non-null      float64\n",
      " 22  stroke             3 non-null      float64\n",
      " 23  symboling          3 non-null      int64  \n",
      " 24  wheel-base         3 non-null      float64\n",
      " 25  width              3 non-null      float64\n",
      "dtypes: float64(11), int64(5), object(10)\n",
      "memory usage: 648.0+ bytes\n",
      "None\n"
     ]
    }
   ],
   "source": [
    "## 1. How many cars from Jaguar are in the dataset, and what is the price of the most expensive one?\n",
    "\n",
    "#cars[cars[\"make\"] == \"jaguar\"]\n",
    "jaguars = autos.query(\"make == 'jaguar'\")\n",
    "\n",
    "jaguars = jaguars.sort_values(by=\"price\", ascending=False)\n",
    "print(jaguars[\"price\"])\n",
    "print(jaguars.info())\n",
    "# print(jaguars.count())\n",
    "\n",
    "## 3 jaguars, 36000"
   ]
  },
  {
   "cell_type": "markdown",
   "metadata": {},
   "source": [
    "**Q2:** How many cars from Toyota are in the dataset, and what is the price of the most expensive one?\n",
    "\n",
    "<details>\n",
    "<summary>Answer</summary>\n",
    "<br>\n",
    "&nbsp;&nbsp;&nbsp;count=32\n",
    "&nbsp;&nbsp;&nbsp;price=17669.0\n",
    "</details>"
   ]
  },
  {
   "cell_type": "code",
   "execution_count": 4,
   "metadata": {},
   "outputs": [
    {
     "name": "stdout",
     "output_type": "stream",
     "text": [
      "32\n"
     ]
    },
    {
     "data": {
      "text/html": [
       "<div>\n",
       "<style scoped>\n",
       "    .dataframe tbody tr th:only-of-type {\n",
       "        vertical-align: middle;\n",
       "    }\n",
       "\n",
       "    .dataframe tbody tr th {\n",
       "        vertical-align: top;\n",
       "    }\n",
       "\n",
       "    .dataframe thead th {\n",
       "        text-align: right;\n",
       "    }\n",
       "</style>\n",
       "<table border=\"1\" class=\"dataframe\">\n",
       "  <thead>\n",
       "    <tr style=\"text-align: right;\">\n",
       "      <th></th>\n",
       "      <th>aspiration</th>\n",
       "      <th>body-style</th>\n",
       "      <th>bore</th>\n",
       "      <th>city-mpg</th>\n",
       "      <th>compression-ratio</th>\n",
       "      <th>curb-weight</th>\n",
       "      <th>drive-wheels</th>\n",
       "      <th>engine-location</th>\n",
       "      <th>engine-size</th>\n",
       "      <th>engine-type</th>\n",
       "      <th>...</th>\n",
       "      <th>make</th>\n",
       "      <th>normalized-losses</th>\n",
       "      <th>num-of-cylinders</th>\n",
       "      <th>num-of-doors</th>\n",
       "      <th>peak-rpm</th>\n",
       "      <th>price</th>\n",
       "      <th>stroke</th>\n",
       "      <th>symboling</th>\n",
       "      <th>wheel-base</th>\n",
       "      <th>width</th>\n",
       "    </tr>\n",
       "  </thead>\n",
       "  <tbody>\n",
       "    <tr>\n",
       "      <th>172</th>\n",
       "      <td>std</td>\n",
       "      <td>convertible</td>\n",
       "      <td>3.62</td>\n",
       "      <td>24</td>\n",
       "      <td>9.3</td>\n",
       "      <td>2975</td>\n",
       "      <td>rwd</td>\n",
       "      <td>front</td>\n",
       "      <td>146</td>\n",
       "      <td>ohc</td>\n",
       "      <td>...</td>\n",
       "      <td>toyota</td>\n",
       "      <td>134.0</td>\n",
       "      <td>four</td>\n",
       "      <td>two</td>\n",
       "      <td>4800.0</td>\n",
       "      <td>17669.0</td>\n",
       "      <td>3.5</td>\n",
       "      <td>2</td>\n",
       "      <td>98.4</td>\n",
       "      <td>65.6</td>\n",
       "    </tr>\n",
       "  </tbody>\n",
       "</table>\n",
       "<p>1 rows × 26 columns</p>\n",
       "</div>"
      ],
      "text/plain": [
       "    aspiration   body-style  bore  city-mpg  compression-ratio  curb-weight  \\\n",
       "172        std  convertible  3.62        24                9.3         2975   \n",
       "\n",
       "    drive-wheels engine-location  engine-size engine-type  ...    make  \\\n",
       "172          rwd           front          146         ohc  ...  toyota   \n",
       "\n",
       "    normalized-losses  num-of-cylinders  num-of-doors  peak-rpm    price  \\\n",
       "172             134.0              four           two    4800.0  17669.0   \n",
       "\n",
       "    stroke  symboling wheel-base width  \n",
       "172    3.5          2       98.4  65.6  \n",
       "\n",
       "[1 rows x 26 columns]"
      ]
     },
     "execution_count": 4,
     "metadata": {},
     "output_type": "execute_result"
    }
   ],
   "source": [
    "toyotas = autos.query(\"make == 'toyota'\")\n",
    "print(len(toyotas.index))\n",
    "toyotas = toyotas.sort_values(by=\"price\", ascending=False)\n",
    "toyotas.head(1)\n",
    "\n",
    "## 32, 17669.0 moneyunits"
   ]
  },
  {
   "cell_type": "markdown",
   "metadata": {},
   "source": [
    "**Q3:** What is the length, width and height of the most expensive car in the entire dataset?\n",
    "\n",
    "<details>\n",
    "<summary>Answer</summary>\n",
    "<br>&nbsp;&nbsp;&nbsp;length=199.2\n",
    "&nbsp;&nbsp;&nbsp;width=72.0\n",
    "&nbsp;&nbsp;&nbsp;height=55.4\n",
    "</details>"
   ]
  },
  {
   "cell_type": "code",
   "execution_count": 5,
   "metadata": {},
   "outputs": [
    {
     "name": "stdout",
     "output_type": "stream",
     "text": [
      "[72.], [199.2], [55.4] \n"
     ]
    }
   ],
   "source": [
    "auto = autos.sort_values(by=\"price\", ascending=False).head(1)\n",
    "# print(auto.columns)\n",
    "print(f\"{auto['width'].values}, {auto['length'].values}, {auto['height'].values} \")\n",
    "\n",
    "\n"
   ]
  },
  {
   "cell_type": "markdown",
   "metadata": {},
   "source": [
    "**Q4:** What is the lowest price per horsepower in the dataset, and what brand (\"make\") is that car?\n",
    "\n",
    "<details>\n",
    "<summary>Answer</summary>\n",
    "<br>\n",
    "&nbsp;&nbsp;&nbsp;price per horsepower=72.84\n",
    "&nbsp;&nbsp;&nbsp;brand=Toyota\n",
    "</details>"
   ]
  },
  {
   "cell_type": "code",
   "execution_count": 23,
   "metadata": {},
   "outputs": [
    {
     "data": {
      "text/plain": [
       "aspiration                 std\n",
       "body-style             hardtop\n",
       "bore                      3.62\n",
       "city-mpg                    24\n",
       "compression-ratio          9.3\n",
       "curb-weight               2540\n",
       "drive-wheels               rwd\n",
       "engine-location          front\n",
       "engine-size                146\n",
       "engine-type                ohc\n",
       "fuel-system               mpfi\n",
       "fuel-type                  gas\n",
       "height                    52.0\n",
       "highway-mpg                 30\n",
       "horsepower               116.0\n",
       "length                   176.2\n",
       "make                    toyota\n",
       "normalized-losses        134.0\n",
       "num-of-cylinders          four\n",
       "num-of-doors               two\n",
       "peak-rpm                4800.0\n",
       "price                   8449.0\n",
       "stroke                     3.5\n",
       "symboling                    2\n",
       "wheel-base                98.4\n",
       "width                     65.6\n",
       "pph                  72.836207\n",
       "Name: 167, dtype: object"
      ]
     },
     "execution_count": 23,
     "metadata": {},
     "output_type": "execute_result"
    }
   ],
   "source": [
    "autos.head(3)\n",
    "copy = autos.copy()\n",
    "\n",
    "\n",
    "copy[\"pph\"] = copy[\"price\"] / copy[\"horsepower\"]\n",
    "\n",
    "copy.sort_values(by=\"pph\")\n",
    "copy.iloc[167]\n",
    "\n",
    "# 72.8kr/hp , Toyota"
   ]
  },
  {
   "cell_type": "markdown",
   "metadata": {},
   "source": [
    "**Q5:** How many of the cars in the dataset has as many cylinders as they have doors?\n",
    "\n",
    "<details>\n",
    "<summary>Answer</summary>\n",
    "<br>\n",
    "&nbsp;&nbsp;&nbsp;cars=95\n",
    "</details>"
   ]
  },
  {
   "cell_type": "code",
   "execution_count": 67,
   "metadata": {},
   "outputs": [],
   "source": [
    "copy = autos.copy()\n",
    "copy.head(5)\n",
    "new = copy[\"num-of-cylinders\"] == copy[\"num-of-doors\"]\n",
    "new.value_counts()\n",
    "\n",
    "## 95st"
   ]
  },
  {
   "cell_type": "markdown",
   "metadata": {},
   "source": [
    "**Use the \"autos\" dataset and write python code to solve the following tasks:**"
   ]
  },
  {
   "cell_type": "markdown",
   "metadata": {},
   "source": [
    "**T1:** Print a string to inform the user of the price difference between the cheapest and the most expensive car in the dataset.\n",
    "\n",
    "<details>\n",
    "<summary>Solution</summary>\n",
    "<br>\n",
    "&nbsp;&nbsp;&nbsp;<b>Example:</b><br>\n",
    "&nbsp;&nbsp;&nbsp;The price difference between the cheapest and the most expensive car is 40282.0\n",
    "</details>"
   ]
  },
  {
   "cell_type": "code",
   "execution_count": 93,
   "metadata": {},
   "outputs": [
    {
     "name": "stdout",
     "output_type": "stream",
     "text": [
      "The price difference is 40282.0\n"
     ]
    }
   ],
   "source": [
    "copy = autos.copy()\n",
    "copy.dropna(subset=\"price\", inplace=True)\n",
    "copy.sort_values(by=\"price\", inplace=True)\n",
    "# copy.head()\n",
    "cheap, expensive =  (copy.index[0], copy.index[-1])\n",
    "\n",
    "diff = copy.at[expensive, \"price\"] - copy.at[cheap, \"price\"]\n",
    "\n",
    "print(f\"The price difference is {diff:.1f}\")\n"
   ]
  },
  {
   "cell_type": "markdown",
   "metadata": {},
   "source": [
    "**T2:** Ask the user to input a brand, then print the price range for that brand.\n",
    "\n",
    "<details>\n",
    "<summary>Solution</summary>\n",
    "<br>\n",
    "&nbsp;&nbsp;&nbsp;<b>Example 1:</b><br>\n",
    "&nbsp;&nbsp;&nbsp;Input the name of a brand: volvo<br>\n",
    "&nbsp;&nbsp;&nbsp;The prices for cars of brand 'volvo' ranges from 12940.0 to 22625.0<br>\n",
    "<br>\n",
    "&nbsp;&nbsp;&nbsp;<b>Example 2:</b><br>\n",
    "&nbsp;&nbsp;&nbsp;Input the name of a brand: toyota<br>\n",
    "&nbsp;&nbsp;&nbsp;The prices for cars of brand 'toyota' ranges from 5348.0 to 17669.0<br>\n",
    "<br>\n",
    "&nbsp;&nbsp;&nbsp;<b>Example 3:</b><br>\n",
    "&nbsp;&nbsp;&nbsp;Input the name of a brand: tesla<br>\n",
    "&nbsp;&nbsp;&nbsp;The brand 'tesla' does not exists in the dataset.<br>\n",
    "</details>"
   ]
  },
  {
   "cell_type": "code",
   "execution_count": 98,
   "metadata": {},
   "outputs": [
    {
     "data": {
      "text/plain": [
       "make\n",
       "toyota           32\n",
       "nissan           18\n",
       "mazda            17\n",
       "mitsubishi       13\n",
       "honda            13\n",
       "volkswagen       12\n",
       "subaru           12\n",
       "peugot           11\n",
       "volvo            11\n",
       "dodge             9\n",
       "mercedes-benz     8\n",
       "bmw               8\n",
       "plymouth          7\n",
       "audi              6\n",
       "saab              6\n",
       "porsche           4\n",
       "jaguar            3\n",
       "chevrolet         3\n",
       "alfa-romero       3\n",
       "isuzu             2\n",
       "renault           2\n",
       "mercury           1\n",
       "Name: count, dtype: int64"
      ]
     },
     "execution_count": 98,
     "metadata": {},
     "output_type": "execute_result"
    }
   ],
   "source": [
    "copy = autos.copy()\n",
    "copy.dropna(subset=[\"price\", \"make\"], inplace=True)\n",
    "copy.sort_values(by=\"price\", ascending=False)\n",
    "\n",
    "model = input(\"Write a car model to check pricerange\")\n",
    "\n",
    "copy[\"make\"].value_counts()"
   ]
  },
  {
   "cell_type": "markdown",
   "metadata": {},
   "source": [
    "**T3:** Ask the user to input a brand, then print the number of cars in the dataset for that brand, and all attributes for a random sample car of that brand.\n",
    "<details>\n",
    "<summary>Solution</summary>\n",
    "<br>\n",
    "&nbsp;&nbsp;&nbsp;<b>Example:</b><br>\n",
    "&nbsp;&nbsp;&nbsp;Input the name of a brand: mazda<br>\n",
    "&nbsp;&nbsp;&nbsp;There are 17 cars of brand 'mazda' in the dataset.<br><br>\n",
    "&nbsp;&nbsp;&nbsp;Here is the data for a random 'mazda' car:<br>\n",
    "&nbsp;&nbsp;&nbsp;aspiration = std<br>\n",
    "&nbsp;&nbsp;&nbsp;body-style = sedan<br>\n",
    "&nbsp;&nbsp;&nbsp;bore = 3.03<br>\n",
    "&nbsp;&nbsp;&nbsp;city-mpg = 31<br>\n",
    "&nbsp;&nbsp;&nbsp;compression-ratio = 9.0<br>\n",
    "&nbsp;&nbsp;&nbsp;curb-weight = 1945<br>\n",
    "&nbsp;&nbsp;&nbsp;drive-wheels = fwd<br>\n",
    "&nbsp;&nbsp;&nbsp;engine-location = front<br>\n",
    "&nbsp;&nbsp;&nbsp;engine-size = 91<br>\n",
    "&nbsp;&nbsp;&nbsp;engine-type = ohc<br>\n",
    "&nbsp;&nbsp;&nbsp;fuel-system = 2bbl<br>\n",
    "&nbsp;&nbsp;&nbsp;fuel-type = gas<br>\n",
    "&nbsp;&nbsp;&nbsp;height = 54.1<br>\n",
    "&nbsp;&nbsp;&nbsp;highway-mpg = 38<br>\n",
    "&nbsp;&nbsp;&nbsp;horsepower = 68.0<br>\n",
    "&nbsp;&nbsp;&nbsp;length = 166.8<br>\n",
    "&nbsp;&nbsp;&nbsp;make = mazda<br>\n",
    "&nbsp;&nbsp;&nbsp;normalized-losses = 113.0<br>\n",
    "&nbsp;&nbsp;&nbsp;num-of-cylinders = four<br>\n",
    "&nbsp;&nbsp;&nbsp;num-of-doors = four<br>\n",
    "&nbsp;&nbsp;&nbsp;peak-rpm = 5000.0<br>\n",
    "&nbsp;&nbsp;&nbsp;price = 6695.0<br>\n",
    "&nbsp;&nbsp;&nbsp;stroke = 3.15<br>\n",
    "&nbsp;&nbsp;&nbsp;symboling = 1<br>\n",
    "&nbsp;&nbsp;&nbsp;wheel-base = 93.1<br>\n",
    "&nbsp;&nbsp;&nbsp;width = 64.2<br>\n",
    "</details>"
   ]
  },
  {
   "cell_type": "code",
   "execution_count": null,
   "metadata": {},
   "outputs": [],
   "source": []
  },
  {
   "cell_type": "markdown",
   "metadata": {},
   "source": [
    "**T4:** Ask the user to input a brand, then export all cars of that brand to a .csv file with the same name as the brand.\n",
    "\n",
    "<details>\n",
    "<summary>Solution</summary>\n",
    "<br>\n",
    "&nbsp;&nbsp;&nbsp;<b>Example 1:</b><br>\n",
    "&nbsp;&nbsp;&nbsp;Input the name of a brand: volkswagen<br>\n",
    "&nbsp;&nbsp;&nbsp;Exported 12 cars to 'volkswagen.csv'<br>\n",
    "<br>\n",
    "&nbsp;&nbsp;&nbsp;<b>Example 2:</b><br>\n",
    "&nbsp;&nbsp;&nbsp;Input the name of a brand: tesla<br>\n",
    "&nbsp;&nbsp;&nbsp;The brand 'tesla' does not exists in the dataset.<br>\n",
    "</details>"
   ]
  },
  {
   "cell_type": "code",
   "execution_count": null,
   "metadata": {},
   "outputs": [],
   "source": []
  }
 ],
 "metadata": {
  "kernelspec": {
   "display_name": "Databehandling-AI23-toKGAHu0",
   "language": "python",
   "name": "python3"
  },
  "language_info": {
   "codemirror_mode": {
    "name": "ipython",
    "version": 3
   },
   "file_extension": ".py",
   "mimetype": "text/x-python",
   "name": "python",
   "nbconvert_exporter": "python",
   "pygments_lexer": "ipython3",
   "version": "3.11.5"
  }
 },
 "nbformat": 4,
 "nbformat_minor": 2
}
