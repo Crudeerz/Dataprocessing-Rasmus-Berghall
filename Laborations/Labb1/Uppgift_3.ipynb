{
 "cells": [
  {
   "cell_type": "markdown",
   "metadata": {},
   "source": [
    "## Uppgift 3  \n",
    "Definiera 3-6 KPIer utöver de som använts i ovanstående uppgifter och gör explorativ dataanalys på flera sheets på båda Excel-filerna.   \n",
    "Se till att dokumentera vad du undersöker med markdown kombinerad med\n",
    "kod i Jupyter notebook eller om du använder Pythonskript,  \n",
    "skriv en markdown vid sidan om. Dokumentera\n",
    "också vad du kommer fram till och spara alla visualiseringar."
   ]
  },
  {
   "cell_type": "code",
   "execution_count": 1,
   "metadata": {},
   "outputs": [],
   "source": [
    "# import neccessary libraries\n",
    "import pandas as pd\n",
    "import plotly_express as px\n",
    "\n",
    "# Set paths for data\n",
    "path_covid = (\"../Labb1/Data/Folkhalsomyndigheten_Covid19.xlsx\")\n",
    "path_vaccine = (\"../Labb1/Data/Folkhalsomyndigheten_Covid19_Vaccine.xlsx\")\n",
    "\n",
    "# Interesting sheets to explore further\n",
    "# From \".Covid19\"\n",
    "deceased_per_day = \"Antal avlidna per dag\"\n",
    "infected_per_day_region = \"Antal per dag region\"\n",
    "# From \".Covid19_Vaccine\"\n",
    "vaccinated_timeseries = \"Vaccinerade tidsserie\"\n",
    "\n",
    "\n"
   ]
  }
 ],
 "metadata": {
  "kernelspec": {
   "display_name": "Dataprocessing-Rasmus-Berghall-dOpNyC7R",
   "language": "python",
   "name": "python3"
  },
  "language_info": {
   "codemirror_mode": {
    "name": "ipython",
    "version": 3
   },
   "file_extension": ".py",
   "mimetype": "text/x-python",
   "name": "python",
   "nbconvert_exporter": "python",
   "pygments_lexer": "ipython3",
   "version": "3.11.5"
  }
 },
 "nbformat": 4,
 "nbformat_minor": 2
}
