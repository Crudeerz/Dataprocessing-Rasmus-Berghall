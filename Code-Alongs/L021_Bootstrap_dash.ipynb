{
 "cells": [
  {
   "cell_type": "code",
   "execution_count": 2,
   "metadata": {},
   "outputs": [],
   "source": [
    "from dash import Dash, html, dcc\n",
    "import dash_bootstrap_components as dbc"
   ]
  },
  {
   "cell_type": "code",
   "execution_count": 35,
   "metadata": {},
   "outputs": [
    {
     "name": "stdout",
     "output_type": "stream",
     "text": [
      "Dash app running on http://192.168.68.107:8050/\n"
     ]
    }
   ],
   "source": [
    "# Genomgång\n",
    "\n",
    "app = Dash(__name__, \n",
    "           external_stylesheets=[dbc.themes.DARKLY], \n",
    "           meta_tags=[{\"name\": \"viewport\", \"content\": \"width=device-width, initial-scale=1\"}])\n",
    "\n",
    "app.layout = dbc.Container(fluid=True, children=[\n",
    "    # \"Hello Bootstrap\", \n",
    "    # dbc.Button(\"Click me!\", color=\"success\", className=\"ms-2 text-uppercase\")\n",
    "\n",
    "    dbc.Row(justify=\"around\", children=[\n",
    "        dbc.Col(\n",
    "            children = [\n",
    "            dbc.Input(type=\"text\", placeholder=\"First Name:\")\n",
    "            ],\n",
    "            class_name=\"mt-2\",\n",
    "            xs=12,sm=6, md=6, lg=3\n",
    "\n",
    "        ),\n",
    "        dbc.Col(\n",
    "            children = [\n",
    "            dbc.Input(type=\"text\", placeholder=\"Last Name:\")\n",
    "            ],\n",
    "            class_name=\"mt-2\",\n",
    "            xs=12,sm=6, md=6, lg=3\n",
    "\n",
    "        ), \n",
    "        dbc.Col(\n",
    "            children = [\n",
    "            dbc.Input(type=\"text\", placeholder=\"Email:\")\n",
    "            ],\n",
    "            class_name=\"mt-2\",\n",
    "            xs=12,sm=6, md=6, lg=3\n",
    "\n",
    "        ),\n",
    "        dbc.Col(\n",
    "            children = [\n",
    "            dbc.Input(type=\"text\", placeholder=\"Phone:\")\n",
    "            ],\n",
    "            class_name=\"mt-2\",\n",
    "            xs=12,sm=6, md=6, lg=3\n",
    "\n",
    "        )\n",
    "    ]),\n",
    "\n",
    "    # dbc.Row(className=\"mt-5\", justify=\"center\", children=[\n",
    "    #     dbc.Col(\n",
    "    #         children = [\n",
    "    #         dbc.DropdownMenu(label=\"Välj\", key=\"Hejj\")\n",
    "    #         ],\n",
    "    #         class_name=\"mt-2\",\n",
    "    #         width={\"size\":3, \"offset\":0}\n",
    "\n",
    "    #     ),\n",
    "    #     dbc.Col(\n",
    "    #         children = [\n",
    "    #         dbc.Input(type=\"text\", placeholder=\"Adress\")\n",
    "    #         ],\n",
    "    #         class_name=\"mt-2\",\n",
    "    #         width={\"size\":6, \"offset\":1}\n",
    "\n",
    "    #     ),\n",
    "        \n",
    "    # ])\n",
    "])\n",
    "\n",
    "\n",
    "app.run(debug=True, jupyter_mode=\"external\")"
   ]
  }
 ],
 "metadata": {
  "kernelspec": {
   "display_name": "Dataprocessing-Rasmus-Berghall-dOpNyC7R",
   "language": "python",
   "name": "python3"
  },
  "language_info": {
   "codemirror_mode": {
    "name": "ipython",
    "version": 3
   },
   "file_extension": ".py",
   "mimetype": "text/x-python",
   "name": "python",
   "nbconvert_exporter": "python",
   "pygments_lexer": "ipython3",
   "version": "3.11.5"
  }
 },
 "nbformat": 4,
 "nbformat_minor": 2
}
