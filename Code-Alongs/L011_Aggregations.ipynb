{
 "cells": [
  {
   "cell_type": "markdown",
   "metadata": {},
   "source": [
    "# Data Aggregation"
   ]
  },
  {
   "cell_type": "code",
   "execution_count": 1,
   "metadata": {},
   "outputs": [],
   "source": [
    "import numpy as np\n",
    "import pandas as pd"
   ]
  },
  {
   "cell_type": "markdown",
   "metadata": {},
   "source": [
    "### Built-in aggregation methods in Pandas  \n",
    "An aggregation method takes a Series of values and returns a single value."
   ]
  },
  {
   "cell_type": "code",
   "execution_count": 24,
   "metadata": {},
   "outputs": [
    {
     "data": {
      "text/plain": [
       "0    53.0\n",
       "1    13.0\n",
       "2     NaN\n",
       "3    36.0\n",
       "4    29.0\n",
       "dtype: float64"
      ]
     },
     "execution_count": 24,
     "metadata": {},
     "output_type": "execute_result"
    }
   ],
   "source": [
    "numbers = pd.Series(np.random.randint(low=1, high=100, size=5))\n",
    "numbers[2] = np.nan\n",
    "numbers"
   ]
  },
  {
   "cell_type": "code",
   "execution_count": 26,
   "metadata": {},
   "outputs": [
    {
     "name": "stdout",
     "output_type": "stream",
     "text": [
      "numbers.min() = 13.0\n",
      "numbers.max() = 53.0\n",
      "numbers.sum() = 131.0\n",
      "numbers.mean() = 32.75\n",
      "numbers.sum() / numbers.count() = 32.75\n",
      "numbers.median() = 32.5\n",
      "numbers.count() = 4\n",
      "numbers.size = 5\n"
     ]
    }
   ],
   "source": [
    "# Some of pandas aggregationmethods are: \n",
    "\n",
    "print(f\"{numbers.min() = }\")\n",
    "print(f\"{numbers.max() = }\")\n",
    "print(f\"{numbers.sum() = }\")\n",
    "print(f\"{numbers.mean() = }\")\n",
    "print(f\"{numbers.sum() / numbers.count() = }\")\n",
    "print(f\"{numbers.median() = }\")\n",
    "# print(f\"{numbers.mode() = }\")\n",
    "print(f\"{numbers.count() = }\") # Räknar antalet värden, tar ej med null/none\n",
    "print(f\"{numbers.size = }\")  # Antalet rader, (räknar med Null/None)\n",
    "\n"
   ]
  },
  {
   "cell_type": "markdown",
   "metadata": {},
   "source": [
    "## When run on a dataframe (multiple Series) they return a single value for each Series, forming a new series."
   ]
  },
  {
   "cell_type": "code",
   "execution_count": 37,
   "metadata": {},
   "outputs": [
    {
     "data": {
      "text/html": [
       "<div>\n",
       "<style scoped>\n",
       "    .dataframe tbody tr th:only-of-type {\n",
       "        vertical-align: middle;\n",
       "    }\n",
       "\n",
       "    .dataframe tbody tr th {\n",
       "        vertical-align: top;\n",
       "    }\n",
       "\n",
       "    .dataframe thead th {\n",
       "        text-align: right;\n",
       "    }\n",
       "</style>\n",
       "<table border=\"1\" class=\"dataframe\">\n",
       "  <thead>\n",
       "    <tr style=\"text-align: right;\">\n",
       "      <th></th>\n",
       "      <th>A</th>\n",
       "      <th>B</th>\n",
       "      <th>C</th>\n",
       "      <th>D</th>\n",
       "      <th>E</th>\n",
       "    </tr>\n",
       "  </thead>\n",
       "  <tbody>\n",
       "    <tr>\n",
       "      <th>0</th>\n",
       "      <td>39</td>\n",
       "      <td>69.0</td>\n",
       "      <td>25.0</td>\n",
       "      <td>46.0</td>\n",
       "      <td>48</td>\n",
       "    </tr>\n",
       "    <tr>\n",
       "      <th>1</th>\n",
       "      <td>43</td>\n",
       "      <td>NaN</td>\n",
       "      <td>NaN</td>\n",
       "      <td>NaN</td>\n",
       "      <td>29</td>\n",
       "    </tr>\n",
       "    <tr>\n",
       "      <th>2</th>\n",
       "      <td>84</td>\n",
       "      <td>NaN</td>\n",
       "      <td>NaN</td>\n",
       "      <td>NaN</td>\n",
       "      <td>42</td>\n",
       "    </tr>\n",
       "    <tr>\n",
       "      <th>3</th>\n",
       "      <td>22</td>\n",
       "      <td>NaN</td>\n",
       "      <td>NaN</td>\n",
       "      <td>NaN</td>\n",
       "      <td>51</td>\n",
       "    </tr>\n",
       "    <tr>\n",
       "      <th>4</th>\n",
       "      <td>1</td>\n",
       "      <td>71.0</td>\n",
       "      <td>2.0</td>\n",
       "      <td>72.0</td>\n",
       "      <td>5</td>\n",
       "    </tr>\n",
       "  </tbody>\n",
       "</table>\n",
       "</div>"
      ],
      "text/plain": [
       "    A     B     C     D   E\n",
       "0  39  69.0  25.0  46.0  48\n",
       "1  43   NaN   NaN   NaN  29\n",
       "2  84   NaN   NaN   NaN  42\n",
       "3  22   NaN   NaN   NaN  51\n",
       "4   1  71.0   2.0  72.0   5"
      ]
     },
     "execution_count": 37,
     "metadata": {},
     "output_type": "execute_result"
    }
   ],
   "source": [
    "numbers_df = pd.DataFrame(np.random.randint(low=1, high=100, size=[5,5]), columns=[\"A\", \"B\", \"C\", \"D\", \"E\"])\n",
    "numbers_df.loc[1:3,\"B\":\"D\"] = np.nan\n",
    "numbers_df"
   ]
  },
  {
   "cell_type": "code",
   "execution_count": 38,
   "metadata": {},
   "outputs": [
    {
     "data": {
      "text/plain": [
       "36.5"
      ]
     },
     "execution_count": 38,
     "metadata": {},
     "output_type": "execute_result"
    }
   ],
   "source": [
    "numbers_df.min() # Default axis = \"index\"\n",
    "numbers_df.min(axis=\"columns\")\n",
    "numbers_df.min(axis=\"columns\").min()\n",
    "numbers_df.median(axis=\"index\").median()\n",
    "numbers_df.median(axis=\"columns\").median()\n"
   ]
  },
  {
   "cell_type": "code",
   "execution_count": 39,
   "metadata": {},
   "outputs": [
    {
     "data": {
      "text/plain": [
       "A    0\n",
       "B    3\n",
       "C    3\n",
       "D    3\n",
       "E    0\n",
       "dtype: int64"
      ]
     },
     "execution_count": 39,
     "metadata": {},
     "output_type": "execute_result"
    }
   ],
   "source": [
    "numbers_df.isna().sum()"
   ]
  },
  {
   "cell_type": "markdown",
   "metadata": {},
   "source": [
    "## Working with real data"
   ]
  },
  {
   "cell_type": "code",
   "execution_count": 43,
   "metadata": {},
   "outputs": [
    {
     "data": {
      "text/html": [
       "<div>\n",
       "<style scoped>\n",
       "    .dataframe tbody tr th:only-of-type {\n",
       "        vertical-align: middle;\n",
       "    }\n",
       "\n",
       "    .dataframe tbody tr th {\n",
       "        vertical-align: top;\n",
       "    }\n",
       "\n",
       "    .dataframe thead th {\n",
       "        text-align: right;\n",
       "    }\n",
       "</style>\n",
       "<table border=\"1\" class=\"dataframe\">\n",
       "  <thead>\n",
       "    <tr style=\"text-align: right;\">\n",
       "      <th></th>\n",
       "      <th>aspiration</th>\n",
       "      <th>body-style</th>\n",
       "      <th>bore</th>\n",
       "      <th>city-mpg</th>\n",
       "      <th>compression-ratio</th>\n",
       "      <th>curb-weight</th>\n",
       "      <th>drive-wheels</th>\n",
       "      <th>engine-location</th>\n",
       "      <th>engine-size</th>\n",
       "      <th>engine-type</th>\n",
       "      <th>...</th>\n",
       "      <th>make</th>\n",
       "      <th>normalized-losses</th>\n",
       "      <th>num-of-cylinders</th>\n",
       "      <th>num-of-doors</th>\n",
       "      <th>peak-rpm</th>\n",
       "      <th>price</th>\n",
       "      <th>stroke</th>\n",
       "      <th>symboling</th>\n",
       "      <th>wheel-base</th>\n",
       "      <th>width</th>\n",
       "    </tr>\n",
       "  </thead>\n",
       "  <tbody>\n",
       "    <tr>\n",
       "      <th>200</th>\n",
       "      <td>std</td>\n",
       "      <td>sedan</td>\n",
       "      <td>3.78</td>\n",
       "      <td>23</td>\n",
       "      <td>9.5</td>\n",
       "      <td>2952</td>\n",
       "      <td>rwd</td>\n",
       "      <td>front</td>\n",
       "      <td>141</td>\n",
       "      <td>ohc</td>\n",
       "      <td>...</td>\n",
       "      <td>volvo</td>\n",
       "      <td>95.0</td>\n",
       "      <td>four</td>\n",
       "      <td>four</td>\n",
       "      <td>5400.0</td>\n",
       "      <td>16845.0</td>\n",
       "      <td>3.15</td>\n",
       "      <td>-1</td>\n",
       "      <td>109.1</td>\n",
       "      <td>68.9</td>\n",
       "    </tr>\n",
       "    <tr>\n",
       "      <th>201</th>\n",
       "      <td>turbo</td>\n",
       "      <td>sedan</td>\n",
       "      <td>3.78</td>\n",
       "      <td>19</td>\n",
       "      <td>8.7</td>\n",
       "      <td>3049</td>\n",
       "      <td>rwd</td>\n",
       "      <td>front</td>\n",
       "      <td>141</td>\n",
       "      <td>ohc</td>\n",
       "      <td>...</td>\n",
       "      <td>volvo</td>\n",
       "      <td>95.0</td>\n",
       "      <td>four</td>\n",
       "      <td>four</td>\n",
       "      <td>5300.0</td>\n",
       "      <td>19045.0</td>\n",
       "      <td>3.15</td>\n",
       "      <td>-1</td>\n",
       "      <td>109.1</td>\n",
       "      <td>68.8</td>\n",
       "    </tr>\n",
       "    <tr>\n",
       "      <th>202</th>\n",
       "      <td>std</td>\n",
       "      <td>sedan</td>\n",
       "      <td>3.58</td>\n",
       "      <td>18</td>\n",
       "      <td>8.8</td>\n",
       "      <td>3012</td>\n",
       "      <td>rwd</td>\n",
       "      <td>front</td>\n",
       "      <td>173</td>\n",
       "      <td>ohcv</td>\n",
       "      <td>...</td>\n",
       "      <td>volvo</td>\n",
       "      <td>95.0</td>\n",
       "      <td>six</td>\n",
       "      <td>four</td>\n",
       "      <td>5500.0</td>\n",
       "      <td>21485.0</td>\n",
       "      <td>2.87</td>\n",
       "      <td>-1</td>\n",
       "      <td>109.1</td>\n",
       "      <td>68.9</td>\n",
       "    </tr>\n",
       "    <tr>\n",
       "      <th>203</th>\n",
       "      <td>turbo</td>\n",
       "      <td>sedan</td>\n",
       "      <td>3.01</td>\n",
       "      <td>26</td>\n",
       "      <td>23.0</td>\n",
       "      <td>3217</td>\n",
       "      <td>rwd</td>\n",
       "      <td>front</td>\n",
       "      <td>145</td>\n",
       "      <td>ohc</td>\n",
       "      <td>...</td>\n",
       "      <td>volvo</td>\n",
       "      <td>95.0</td>\n",
       "      <td>six</td>\n",
       "      <td>four</td>\n",
       "      <td>4800.0</td>\n",
       "      <td>22470.0</td>\n",
       "      <td>3.40</td>\n",
       "      <td>-1</td>\n",
       "      <td>109.1</td>\n",
       "      <td>68.9</td>\n",
       "    </tr>\n",
       "    <tr>\n",
       "      <th>204</th>\n",
       "      <td>turbo</td>\n",
       "      <td>sedan</td>\n",
       "      <td>3.78</td>\n",
       "      <td>19</td>\n",
       "      <td>9.5</td>\n",
       "      <td>3062</td>\n",
       "      <td>rwd</td>\n",
       "      <td>front</td>\n",
       "      <td>141</td>\n",
       "      <td>ohc</td>\n",
       "      <td>...</td>\n",
       "      <td>volvo</td>\n",
       "      <td>95.0</td>\n",
       "      <td>four</td>\n",
       "      <td>four</td>\n",
       "      <td>5400.0</td>\n",
       "      <td>22625.0</td>\n",
       "      <td>3.15</td>\n",
       "      <td>-1</td>\n",
       "      <td>109.1</td>\n",
       "      <td>68.9</td>\n",
       "    </tr>\n",
       "  </tbody>\n",
       "</table>\n",
       "<p>5 rows × 26 columns</p>\n",
       "</div>"
      ],
      "text/plain": [
       "    aspiration body-style  bore  city-mpg  compression-ratio  curb-weight  \\\n",
       "200        std      sedan  3.78        23                9.5         2952   \n",
       "201      turbo      sedan  3.78        19                8.7         3049   \n",
       "202        std      sedan  3.58        18                8.8         3012   \n",
       "203      turbo      sedan  3.01        26               23.0         3217   \n",
       "204      turbo      sedan  3.78        19                9.5         3062   \n",
       "\n",
       "    drive-wheels engine-location  engine-size engine-type  ...   make  \\\n",
       "200          rwd           front          141         ohc  ...  volvo   \n",
       "201          rwd           front          141         ohc  ...  volvo   \n",
       "202          rwd           front          173        ohcv  ...  volvo   \n",
       "203          rwd           front          145         ohc  ...  volvo   \n",
       "204          rwd           front          141         ohc  ...  volvo   \n",
       "\n",
       "    normalized-losses  num-of-cylinders  num-of-doors  peak-rpm    price  \\\n",
       "200              95.0              four          four    5400.0  16845.0   \n",
       "201              95.0              four          four    5300.0  19045.0   \n",
       "202              95.0               six          four    5500.0  21485.0   \n",
       "203              95.0               six          four    4800.0  22470.0   \n",
       "204              95.0              four          four    5400.0  22625.0   \n",
       "\n",
       "    stroke  symboling wheel-base width  \n",
       "200   3.15         -1      109.1  68.9  \n",
       "201   3.15         -1      109.1  68.8  \n",
       "202   2.87         -1      109.1  68.9  \n",
       "203   3.40         -1      109.1  68.9  \n",
       "204   3.15         -1      109.1  68.9  \n",
       "\n",
       "[5 rows x 26 columns]"
      ]
     },
     "execution_count": 43,
     "metadata": {},
     "output_type": "execute_result"
    }
   ],
   "source": [
    "autos = pd.read_json(\"../Data/autos.json\")\n",
    "autos.tail()\n"
   ]
  },
  {
   "cell_type": "code",
   "execution_count": 42,
   "metadata": {},
   "outputs": [
    {
     "data": {
      "text/plain": [
       "13207.129353233831"
      ]
     },
     "execution_count": 42,
     "metadata": {},
     "output_type": "execute_result"
    }
   ],
   "source": [
    "autos[\"price\"].mean()"
   ]
  },
  {
   "cell_type": "code",
   "execution_count": 45,
   "metadata": {},
   "outputs": [
    {
     "data": {
      "text/html": [
       "<div>\n",
       "<style scoped>\n",
       "    .dataframe tbody tr th:only-of-type {\n",
       "        vertical-align: middle;\n",
       "    }\n",
       "\n",
       "    .dataframe tbody tr th {\n",
       "        vertical-align: top;\n",
       "    }\n",
       "\n",
       "    .dataframe thead th {\n",
       "        text-align: right;\n",
       "    }\n",
       "</style>\n",
       "<table border=\"1\" class=\"dataframe\">\n",
       "  <thead>\n",
       "    <tr style=\"text-align: right;\">\n",
       "      <th></th>\n",
       "      <th>length</th>\n",
       "      <th>width</th>\n",
       "      <th>height</th>\n",
       "    </tr>\n",
       "  </thead>\n",
       "  <tbody>\n",
       "    <tr>\n",
       "      <th>0</th>\n",
       "      <td>168.8</td>\n",
       "      <td>64.1</td>\n",
       "      <td>48.8</td>\n",
       "    </tr>\n",
       "    <tr>\n",
       "      <th>1</th>\n",
       "      <td>168.8</td>\n",
       "      <td>64.1</td>\n",
       "      <td>48.8</td>\n",
       "    </tr>\n",
       "    <tr>\n",
       "      <th>2</th>\n",
       "      <td>171.2</td>\n",
       "      <td>65.5</td>\n",
       "      <td>52.4</td>\n",
       "    </tr>\n",
       "  </tbody>\n",
       "</table>\n",
       "</div>"
      ],
      "text/plain": [
       "   length  width  height\n",
       "0   168.8   64.1    48.8\n",
       "1   168.8   64.1    48.8\n",
       "2   171.2   65.5    52.4"
      ]
     },
     "execution_count": 45,
     "metadata": {},
     "output_type": "execute_result"
    }
   ],
   "source": [
    "autos[[\"length\", \"width\", \"height\"]].head(3)"
   ]
  },
  {
   "cell_type": "code",
   "execution_count": 52,
   "metadata": {},
   "outputs": [
    {
     "data": {
      "text/plain": [
       "length    188.800000\n",
       "width      67.963636\n",
       "height     56.236364\n",
       "dtype: float64"
      ]
     },
     "execution_count": 52,
     "metadata": {},
     "output_type": "execute_result"
    }
   ],
   "source": [
    "# Running mean on multiple columns (DataFrame) returns a Series of means.\n",
    "\n",
    "autos[[\"length\", \"width\", \"height\"]].head(3).mean()\n",
    "autos[[\"length\", \"width\", \"height\"]].mean()\n",
    "\n",
    "# Same query with different syntax: \n",
    "autos[autos[\"make\"]== 'volvo'][[\"length\", \"width\", \"height\"]].mean() # For reading and with \"loc\" also updating/changing values\n",
    "autos.query(\"make == 'volvo'\")[[\"length\", \"width\", \"height\"]].mean() # Only for reading, querying "
   ]
  },
  {
   "cell_type": "markdown",
   "metadata": {},
   "source": [
    "## Multiple aggregation"
   ]
  },
  {
   "cell_type": "code",
   "execution_count": 65,
   "metadata": {},
   "outputs": [
    {
     "data": {
      "text/html": [
       "<div>\n",
       "<style scoped>\n",
       "    .dataframe tbody tr th:only-of-type {\n",
       "        vertical-align: middle;\n",
       "    }\n",
       "\n",
       "    .dataframe tbody tr th {\n",
       "        vertical-align: top;\n",
       "    }\n",
       "\n",
       "    .dataframe thead th {\n",
       "        text-align: right;\n",
       "    }\n",
       "</style>\n",
       "<table border=\"1\" class=\"dataframe\">\n",
       "  <thead>\n",
       "    <tr style=\"text-align: right;\">\n",
       "      <th></th>\n",
       "      <th>bore</th>\n",
       "      <th>city-mpg</th>\n",
       "      <th>compression-ratio</th>\n",
       "      <th>curb-weight</th>\n",
       "      <th>engine-size</th>\n",
       "      <th>height</th>\n",
       "      <th>highway-mpg</th>\n",
       "      <th>horsepower</th>\n",
       "      <th>length</th>\n",
       "      <th>normalized-losses</th>\n",
       "      <th>peak-rpm</th>\n",
       "      <th>price</th>\n",
       "      <th>stroke</th>\n",
       "      <th>symboling</th>\n",
       "      <th>wheel-base</th>\n",
       "      <th>width</th>\n",
       "    </tr>\n",
       "  </thead>\n",
       "  <tbody>\n",
       "    <tr>\n",
       "      <th>min</th>\n",
       "      <td>2.540000</td>\n",
       "      <td>13.000000</td>\n",
       "      <td>7.000000</td>\n",
       "      <td>1488.000000</td>\n",
       "      <td>61.000000</td>\n",
       "      <td>47.800000</td>\n",
       "      <td>16.00000</td>\n",
       "      <td>48.000000</td>\n",
       "      <td>141.100000</td>\n",
       "      <td>65.0</td>\n",
       "      <td>4150.000000</td>\n",
       "      <td>5118.000000</td>\n",
       "      <td>2.070000</td>\n",
       "      <td>-2.000000</td>\n",
       "      <td>86.600000</td>\n",
       "      <td>60.300000</td>\n",
       "    </tr>\n",
       "    <tr>\n",
       "      <th>max</th>\n",
       "      <td>3.940000</td>\n",
       "      <td>49.000000</td>\n",
       "      <td>23.000000</td>\n",
       "      <td>4066.000000</td>\n",
       "      <td>326.000000</td>\n",
       "      <td>59.800000</td>\n",
       "      <td>54.00000</td>\n",
       "      <td>288.000000</td>\n",
       "      <td>208.100000</td>\n",
       "      <td>256.0</td>\n",
       "      <td>6600.000000</td>\n",
       "      <td>45400.000000</td>\n",
       "      <td>4.170000</td>\n",
       "      <td>3.000000</td>\n",
       "      <td>120.900000</td>\n",
       "      <td>72.300000</td>\n",
       "    </tr>\n",
       "    <tr>\n",
       "      <th>mean</th>\n",
       "      <td>3.329751</td>\n",
       "      <td>25.219512</td>\n",
       "      <td>10.142537</td>\n",
       "      <td>2555.565854</td>\n",
       "      <td>126.907317</td>\n",
       "      <td>53.724878</td>\n",
       "      <td>30.75122</td>\n",
       "      <td>104.256158</td>\n",
       "      <td>174.049268</td>\n",
       "      <td>122.0</td>\n",
       "      <td>5125.369458</td>\n",
       "      <td>13207.129353</td>\n",
       "      <td>3.255423</td>\n",
       "      <td>0.834146</td>\n",
       "      <td>98.756585</td>\n",
       "      <td>65.907805</td>\n",
       "    </tr>\n",
       "  </tbody>\n",
       "</table>\n",
       "</div>"
      ],
      "text/plain": [
       "          bore   city-mpg  compression-ratio  curb-weight  engine-size  \\\n",
       "min   2.540000  13.000000           7.000000  1488.000000    61.000000   \n",
       "max   3.940000  49.000000          23.000000  4066.000000   326.000000   \n",
       "mean  3.329751  25.219512          10.142537  2555.565854   126.907317   \n",
       "\n",
       "         height  highway-mpg  horsepower      length  normalized-losses  \\\n",
       "min   47.800000     16.00000   48.000000  141.100000               65.0   \n",
       "max   59.800000     54.00000  288.000000  208.100000              256.0   \n",
       "mean  53.724878     30.75122  104.256158  174.049268              122.0   \n",
       "\n",
       "         peak-rpm         price    stroke  symboling  wheel-base      width  \n",
       "min   4150.000000   5118.000000  2.070000  -2.000000   86.600000  60.300000  \n",
       "max   6600.000000  45400.000000  4.170000   3.000000  120.900000  72.300000  \n",
       "mean  5125.369458  13207.129353  3.255423   0.834146   98.756585  65.907805  "
      ]
     },
     "execution_count": 65,
     "metadata": {},
     "output_type": "execute_result"
    }
   ],
   "source": [
    "autos[[\"length\", \"width\", \"height\"]].agg([\"min\", \"max\", \"mean\"])\n",
    "\n",
    "filter_list = [col for col in autos.columns if autos[col].dtype in [\"int64\", \"float64\"]]\n",
    "autos[filter_list].agg([\"min\", \"max\", \"mean\"])\n",
    "\n",
    "# autos[[col for col in autos.columns if autos[col].dtype in [\"int64\", \"float64\"]]].agg([\"min\", \"max\", \"mean\"])\n",
    "# autos.describe()"
   ]
  },
  {
   "cell_type": "markdown",
   "metadata": {},
   "source": [
    "### Split-Apply-Combine  \n",
    "- Select a feature to use as key\n",
    "- Split the dataset into group for each unique key value\n",
    "- Apply aggregation to each group\n",
    "- Combine aggregated data into new dataset  \n",
    "\n",
    "![image](https://nicholasvadivelu.com/assets/images/posts/groupby/split-apply-combine.svg#center)"
   ]
  },
  {
   "cell_type": "markdown",
   "metadata": {},
   "source": [
    "### Group by  \n",
    "Use Pandas .groupby() method to select a key and split into groups.\n",
    "\n",
    "This creates a new *DataFrameGroupBy* object containing the grouped *DataFrames*"
   ]
  },
  {
   "cell_type": "code",
   "execution_count": 66,
   "metadata": {},
   "outputs": [],
   "source": [
    "makes = autos.groupby(\"make\")"
   ]
  },
  {
   "cell_type": "code",
   "execution_count": 67,
   "metadata": {},
   "outputs": [
    {
     "data": {
      "text/plain": [
       "pandas.core.groupby.generic.DataFrameGroupBy"
      ]
     },
     "execution_count": 67,
     "metadata": {},
     "output_type": "execute_result"
    }
   ],
   "source": [
    "type(makes)"
   ]
  },
  {
   "cell_type": "code",
   "execution_count": 73,
   "metadata": {},
   "outputs": [
    {
     "data": {
      "text/plain": [
       "22"
      ]
     },
     "execution_count": 73,
     "metadata": {},
     "output_type": "execute_result"
    }
   ],
   "source": [
    "autos[\"make\"].value_counts()\n",
    "autos[\"make\"].unique()\n",
    "autos[\"make\"].nunique()\n",
    "len(makes)"
   ]
  },
  {
   "cell_type": "code",
   "execution_count": 76,
   "metadata": {},
   "outputs": [
    {
     "data": {
      "text/html": [
       "<div>\n",
       "<style scoped>\n",
       "    .dataframe tbody tr th:only-of-type {\n",
       "        vertical-align: middle;\n",
       "    }\n",
       "\n",
       "    .dataframe tbody tr th {\n",
       "        vertical-align: top;\n",
       "    }\n",
       "\n",
       "    .dataframe thead th {\n",
       "        text-align: right;\n",
       "    }\n",
       "</style>\n",
       "<table border=\"1\" class=\"dataframe\">\n",
       "  <thead>\n",
       "    <tr style=\"text-align: right;\">\n",
       "      <th></th>\n",
       "      <th>aspiration</th>\n",
       "      <th>body-style</th>\n",
       "      <th>bore</th>\n",
       "      <th>city-mpg</th>\n",
       "      <th>compression-ratio</th>\n",
       "      <th>curb-weight</th>\n",
       "      <th>drive-wheels</th>\n",
       "      <th>engine-location</th>\n",
       "      <th>engine-size</th>\n",
       "      <th>engine-type</th>\n",
       "      <th>...</th>\n",
       "      <th>make</th>\n",
       "      <th>normalized-losses</th>\n",
       "      <th>num-of-cylinders</th>\n",
       "      <th>num-of-doors</th>\n",
       "      <th>peak-rpm</th>\n",
       "      <th>price</th>\n",
       "      <th>stroke</th>\n",
       "      <th>symboling</th>\n",
       "      <th>wheel-base</th>\n",
       "      <th>width</th>\n",
       "    </tr>\n",
       "  </thead>\n",
       "  <tbody>\n",
       "    <tr>\n",
       "      <th>47</th>\n",
       "      <td>std</td>\n",
       "      <td>sedan</td>\n",
       "      <td>3.63</td>\n",
       "      <td>15</td>\n",
       "      <td>8.1</td>\n",
       "      <td>4066</td>\n",
       "      <td>rwd</td>\n",
       "      <td>front</td>\n",
       "      <td>258</td>\n",
       "      <td>dohc</td>\n",
       "      <td>...</td>\n",
       "      <td>jaguar</td>\n",
       "      <td>145.0</td>\n",
       "      <td>six</td>\n",
       "      <td>four</td>\n",
       "      <td>4750.0</td>\n",
       "      <td>32250.0</td>\n",
       "      <td>4.17</td>\n",
       "      <td>0</td>\n",
       "      <td>113.0</td>\n",
       "      <td>69.6</td>\n",
       "    </tr>\n",
       "    <tr>\n",
       "      <th>48</th>\n",
       "      <td>std</td>\n",
       "      <td>sedan</td>\n",
       "      <td>3.63</td>\n",
       "      <td>15</td>\n",
       "      <td>8.1</td>\n",
       "      <td>4066</td>\n",
       "      <td>rwd</td>\n",
       "      <td>front</td>\n",
       "      <td>258</td>\n",
       "      <td>dohc</td>\n",
       "      <td>...</td>\n",
       "      <td>jaguar</td>\n",
       "      <td>NaN</td>\n",
       "      <td>six</td>\n",
       "      <td>four</td>\n",
       "      <td>4750.0</td>\n",
       "      <td>35550.0</td>\n",
       "      <td>4.17</td>\n",
       "      <td>0</td>\n",
       "      <td>113.0</td>\n",
       "      <td>69.6</td>\n",
       "    </tr>\n",
       "    <tr>\n",
       "      <th>49</th>\n",
       "      <td>std</td>\n",
       "      <td>sedan</td>\n",
       "      <td>3.54</td>\n",
       "      <td>13</td>\n",
       "      <td>11.5</td>\n",
       "      <td>3950</td>\n",
       "      <td>rwd</td>\n",
       "      <td>front</td>\n",
       "      <td>326</td>\n",
       "      <td>ohcv</td>\n",
       "      <td>...</td>\n",
       "      <td>jaguar</td>\n",
       "      <td>NaN</td>\n",
       "      <td>twelve</td>\n",
       "      <td>two</td>\n",
       "      <td>5000.0</td>\n",
       "      <td>36000.0</td>\n",
       "      <td>2.76</td>\n",
       "      <td>0</td>\n",
       "      <td>102.0</td>\n",
       "      <td>70.6</td>\n",
       "    </tr>\n",
       "  </tbody>\n",
       "</table>\n",
       "<p>3 rows × 26 columns</p>\n",
       "</div>"
      ],
      "text/plain": [
       "   aspiration body-style  bore  city-mpg  compression-ratio  curb-weight  \\\n",
       "47        std      sedan  3.63        15                8.1         4066   \n",
       "48        std      sedan  3.63        15                8.1         4066   \n",
       "49        std      sedan  3.54        13               11.5         3950   \n",
       "\n",
       "   drive-wheels engine-location  engine-size engine-type  ...    make  \\\n",
       "47          rwd           front          258        dohc  ...  jaguar   \n",
       "48          rwd           front          258        dohc  ...  jaguar   \n",
       "49          rwd           front          326        ohcv  ...  jaguar   \n",
       "\n",
       "   normalized-losses  num-of-cylinders  num-of-doors  peak-rpm    price  \\\n",
       "47             145.0               six          four    4750.0  32250.0   \n",
       "48               NaN               six          four    4750.0  35550.0   \n",
       "49               NaN            twelve           two    5000.0  36000.0   \n",
       "\n",
       "   stroke  symboling wheel-base width  \n",
       "47   4.17          0      113.0  69.6  \n",
       "48   4.17          0      113.0  69.6  \n",
       "49   2.76          0      102.0  70.6  \n",
       "\n",
       "[3 rows x 26 columns]"
      ]
     },
     "execution_count": 76,
     "metadata": {},
     "output_type": "execute_result"
    }
   ],
   "source": [
    "makes.groups\n",
    "autos.loc[makes.groups[\"jaguar\"]]\n",
    "makes.get_group(\"jaguar\")"
   ]
  },
  {
   "cell_type": "markdown",
   "metadata": {},
   "source": [
    "### Apply & Combine  \n",
    "It's possible to access a single group as above.   \n",
    "However, most of the time we rather apply aggregation functions to each group individually and combine the result into a new dataset.\n"
   ]
  },
  {
   "cell_type": "code",
   "execution_count": 84,
   "metadata": {},
   "outputs": [
    {
     "data": {
      "text/html": [
       "<div>\n",
       "<style scoped>\n",
       "    .dataframe tbody tr th:only-of-type {\n",
       "        vertical-align: middle;\n",
       "    }\n",
       "\n",
       "    .dataframe tbody tr th {\n",
       "        vertical-align: top;\n",
       "    }\n",
       "\n",
       "    .dataframe thead th {\n",
       "        text-align: right;\n",
       "    }\n",
       "</style>\n",
       "<table border=\"1\" class=\"dataframe\">\n",
       "  <thead>\n",
       "    <tr style=\"text-align: right;\">\n",
       "      <th></th>\n",
       "      <th>length</th>\n",
       "      <th>height</th>\n",
       "      <th>length</th>\n",
       "    </tr>\n",
       "    <tr>\n",
       "      <th>make</th>\n",
       "      <th></th>\n",
       "      <th></th>\n",
       "      <th></th>\n",
       "    </tr>\n",
       "  </thead>\n",
       "  <tbody>\n",
       "    <tr>\n",
       "      <th>alfa-romero</th>\n",
       "      <td>169.600000</td>\n",
       "      <td>50.000000</td>\n",
       "      <td>169.600000</td>\n",
       "    </tr>\n",
       "    <tr>\n",
       "      <th>audi</th>\n",
       "      <td>183.828571</td>\n",
       "      <td>54.428571</td>\n",
       "      <td>183.828571</td>\n",
       "    </tr>\n",
       "    <tr>\n",
       "      <th>bmw</th>\n",
       "      <td>184.500000</td>\n",
       "      <td>54.825000</td>\n",
       "      <td>184.500000</td>\n",
       "    </tr>\n",
       "  </tbody>\n",
       "</table>\n",
       "</div>"
      ],
      "text/plain": [
       "                 length     height      length\n",
       "make                                          \n",
       "alfa-romero  169.600000  50.000000  169.600000\n",
       "audi         183.828571  54.428571  183.828571\n",
       "bmw          184.500000  54.825000  184.500000"
      ]
     },
     "execution_count": 84,
     "metadata": {},
     "output_type": "execute_result"
    }
   ],
   "source": [
    "makes.count()\n",
    "makes[\"price\"].mean()\n",
    "makes.count().head()\n",
    "makes[[\"length\",\"height\",\"length\"]].mean().head(3)"
   ]
  },
  {
   "cell_type": "markdown",
   "metadata": {},
   "source": [
    "### SeriesGroupBy\n"
   ]
  },
  {
   "cell_type": "code",
   "execution_count": null,
   "metadata": {},
   "outputs": [],
   "source": []
  },
  {
   "cell_type": "markdown",
   "metadata": {},
   "source": [
    "### Multiple aggregation on DataFrameGroupBy  \n",
    "Using pandas .agg() method on a DataFrameGroupBy to do multiple aggregations on multiple features will return a multi-index column DataFrame."
   ]
  },
  {
   "cell_type": "code",
   "execution_count": 86,
   "metadata": {},
   "outputs": [
    {
     "data": {
      "text/html": [
       "<div>\n",
       "<style scoped>\n",
       "    .dataframe tbody tr th:only-of-type {\n",
       "        vertical-align: middle;\n",
       "    }\n",
       "\n",
       "    .dataframe tbody tr th {\n",
       "        vertical-align: top;\n",
       "    }\n",
       "\n",
       "    .dataframe thead tr th {\n",
       "        text-align: left;\n",
       "    }\n",
       "\n",
       "    .dataframe thead tr:last-of-type th {\n",
       "        text-align: right;\n",
       "    }\n",
       "</style>\n",
       "<table border=\"1\" class=\"dataframe\">\n",
       "  <thead>\n",
       "    <tr>\n",
       "      <th></th>\n",
       "      <th colspan=\"3\" halign=\"left\">length</th>\n",
       "      <th colspan=\"3\" halign=\"left\">width</th>\n",
       "      <th colspan=\"3\" halign=\"left\">height</th>\n",
       "    </tr>\n",
       "    <tr>\n",
       "      <th></th>\n",
       "      <th>min</th>\n",
       "      <th>mean</th>\n",
       "      <th>max</th>\n",
       "      <th>min</th>\n",
       "      <th>mean</th>\n",
       "      <th>max</th>\n",
       "      <th>min</th>\n",
       "      <th>mean</th>\n",
       "      <th>max</th>\n",
       "    </tr>\n",
       "    <tr>\n",
       "      <th>make</th>\n",
       "      <th></th>\n",
       "      <th></th>\n",
       "      <th></th>\n",
       "      <th></th>\n",
       "      <th></th>\n",
       "      <th></th>\n",
       "      <th></th>\n",
       "      <th></th>\n",
       "      <th></th>\n",
       "    </tr>\n",
       "  </thead>\n",
       "  <tbody>\n",
       "    <tr>\n",
       "      <th>alfa-romero</th>\n",
       "      <td>168.8</td>\n",
       "      <td>169.600000</td>\n",
       "      <td>171.2</td>\n",
       "      <td>64.1</td>\n",
       "      <td>64.566667</td>\n",
       "      <td>65.5</td>\n",
       "      <td>48.8</td>\n",
       "      <td>50.000000</td>\n",
       "      <td>52.4</td>\n",
       "    </tr>\n",
       "    <tr>\n",
       "      <th>audi</th>\n",
       "      <td>176.6</td>\n",
       "      <td>183.828571</td>\n",
       "      <td>192.7</td>\n",
       "      <td>66.2</td>\n",
       "      <td>68.714286</td>\n",
       "      <td>71.4</td>\n",
       "      <td>52.0</td>\n",
       "      <td>54.428571</td>\n",
       "      <td>55.9</td>\n",
       "    </tr>\n",
       "    <tr>\n",
       "      <th>bmw</th>\n",
       "      <td>176.8</td>\n",
       "      <td>184.500000</td>\n",
       "      <td>197.0</td>\n",
       "      <td>64.8</td>\n",
       "      <td>66.475000</td>\n",
       "      <td>70.9</td>\n",
       "      <td>53.7</td>\n",
       "      <td>54.825000</td>\n",
       "      <td>56.3</td>\n",
       "    </tr>\n",
       "  </tbody>\n",
       "</table>\n",
       "</div>"
      ],
      "text/plain": [
       "            length                    width                  height  \\\n",
       "               min        mean    max   min       mean   max    min   \n",
       "make                                                                  \n",
       "alfa-romero  168.8  169.600000  171.2  64.1  64.566667  65.5   48.8   \n",
       "audi         176.6  183.828571  192.7  66.2  68.714286  71.4   52.0   \n",
       "bmw          176.8  184.500000  197.0  64.8  66.475000  70.9   53.7   \n",
       "\n",
       "                              \n",
       "                  mean   max  \n",
       "make                          \n",
       "alfa-romero  50.000000  52.4  \n",
       "audi         54.428571  55.9  \n",
       "bmw          54.825000  56.3  "
      ]
     },
     "execution_count": 86,
     "metadata": {},
     "output_type": "execute_result"
    }
   ],
   "source": [
    "makes[[\"length\", \"width\", \"height\"]].agg([\"min\", \"mean\", \"max\"]).head(3)"
   ]
  },
  {
   "cell_type": "markdown",
   "metadata": {},
   "source": [
    "### Custom columns aggregation "
   ]
  },
  {
   "cell_type": "code",
   "execution_count": 88,
   "metadata": {},
   "outputs": [
    {
     "data": {
      "text/html": [
       "<div>\n",
       "<style scoped>\n",
       "    .dataframe tbody tr th:only-of-type {\n",
       "        vertical-align: middle;\n",
       "    }\n",
       "\n",
       "    .dataframe tbody tr th {\n",
       "        vertical-align: top;\n",
       "    }\n",
       "\n",
       "    .dataframe thead th {\n",
       "        text-align: right;\n",
       "    }\n",
       "</style>\n",
       "<table border=\"1\" class=\"dataframe\">\n",
       "  <thead>\n",
       "    <tr style=\"text-align: right;\">\n",
       "      <th></th>\n",
       "      <th>price</th>\n",
       "      <th>horsepower</th>\n",
       "    </tr>\n",
       "    <tr>\n",
       "      <th>make</th>\n",
       "      <th></th>\n",
       "      <th></th>\n",
       "    </tr>\n",
       "  </thead>\n",
       "  <tbody>\n",
       "    <tr>\n",
       "      <th>alfa-romero</th>\n",
       "      <td>15498.333333</td>\n",
       "      <td>154.0</td>\n",
       "    </tr>\n",
       "    <tr>\n",
       "      <th>audi</th>\n",
       "      <td>17859.166667</td>\n",
       "      <td>160.0</td>\n",
       "    </tr>\n",
       "    <tr>\n",
       "      <th>bmw</th>\n",
       "      <td>26118.750000</td>\n",
       "      <td>182.0</td>\n",
       "    </tr>\n",
       "  </tbody>\n",
       "</table>\n",
       "</div>"
      ],
      "text/plain": [
       "                    price  horsepower\n",
       "make                                 \n",
       "alfa-romero  15498.333333       154.0\n",
       "audi         17859.166667       160.0\n",
       "bmw          26118.750000       182.0"
      ]
     },
     "execution_count": 88,
     "metadata": {},
     "output_type": "execute_result"
    }
   ],
   "source": [
    "autos.groupby(\"make\").agg({\"price\" : \"mean\", \"horsepower\" : \"max\"}).head(3)"
   ]
  },
  {
   "cell_type": "code",
   "execution_count": 94,
   "metadata": {},
   "outputs": [
    {
     "data": {
      "text/html": [
       "<div>\n",
       "<style scoped>\n",
       "    .dataframe tbody tr th:only-of-type {\n",
       "        vertical-align: middle;\n",
       "    }\n",
       "\n",
       "    .dataframe tbody tr th {\n",
       "        vertical-align: top;\n",
       "    }\n",
       "\n",
       "    .dataframe thead th {\n",
       "        text-align: right;\n",
       "    }\n",
       "</style>\n",
       "<table border=\"1\" class=\"dataframe\">\n",
       "  <thead>\n",
       "    <tr style=\"text-align: right;\">\n",
       "      <th></th>\n",
       "      <th>average_price</th>\n",
       "      <th>max_horsepower</th>\n",
       "      <th>min_horsepower</th>\n",
       "    </tr>\n",
       "    <tr>\n",
       "      <th>make</th>\n",
       "      <th></th>\n",
       "      <th></th>\n",
       "      <th></th>\n",
       "    </tr>\n",
       "  </thead>\n",
       "  <tbody>\n",
       "    <tr>\n",
       "      <th>alfa-romero</th>\n",
       "      <td>15498.333333</td>\n",
       "      <td>154.0</td>\n",
       "      <td>111.0</td>\n",
       "    </tr>\n",
       "    <tr>\n",
       "      <th>audi</th>\n",
       "      <td>17859.166667</td>\n",
       "      <td>160.0</td>\n",
       "      <td>102.0</td>\n",
       "    </tr>\n",
       "    <tr>\n",
       "      <th>bmw</th>\n",
       "      <td>26118.750000</td>\n",
       "      <td>182.0</td>\n",
       "      <td>101.0</td>\n",
       "    </tr>\n",
       "  </tbody>\n",
       "</table>\n",
       "</div>"
      ],
      "text/plain": [
       "             average_price  max_horsepower  min_horsepower\n",
       "make                                                      \n",
       "alfa-romero   15498.333333           154.0           111.0\n",
       "audi          17859.166667           160.0           102.0\n",
       "bmw           26118.750000           182.0           101.0"
      ]
     },
     "execution_count": 94,
     "metadata": {},
     "output_type": "execute_result"
    }
   ],
   "source": [
    "autos.groupby(\"make\").agg(\n",
    "    average_price = pd.NamedAgg(column=\"price\", aggfunc=\"mean\"),\n",
    "    max_horsepower = pd.NamedAgg(column=\"horsepower\", aggfunc=\"max\"),\n",
    "    min_horsepower = pd.NamedAgg(column=\"horsepower\", aggfunc=\"min\"),\n",
    "    ).head(3)"
   ]
  }
 ],
 "metadata": {
  "kernelspec": {
   "display_name": "Dataprocessing-Rasmus-Berghall-dOpNyC7R",
   "language": "python",
   "name": "python3"
  },
  "language_info": {
   "codemirror_mode": {
    "name": "ipython",
    "version": 3
   },
   "file_extension": ".py",
   "mimetype": "text/x-python",
   "name": "python",
   "nbconvert_exporter": "python",
   "pygments_lexer": "ipython3",
   "version": "3.11.5"
  }
 },
 "nbformat": 4,
 "nbformat_minor": 2
}
