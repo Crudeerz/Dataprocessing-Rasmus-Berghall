{
 "cells": [
  {
   "cell_type": "code",
   "execution_count": 26,
   "metadata": {},
   "outputs": [],
   "source": [
    "from dash import Dash, html, dcc, callback, Output, Input\n",
    "import plotly_express as px\n",
    "import pandas as pd\n",
    "\n",
    "df = px.data.gapminder()\n",
    "\n",
    "\n",
    "\n",
    "\n",
    "app = Dash(__name__)\n",
    "\n",
    "\n",
    "my_H1 = html.H1(style={\"fontFamily\":\"helvetica\"},children=\"My dash application\")\n",
    "my_H2 = html.H2(id=\"my-h2\", children=\"More info...\")\n",
    "my_dropdown = dcc.Dropdown(id=\"my-dropdown\", options=df[\"year\"].unique(), value= 2007, style={\"width\":\"200px\"})\n",
    "my_graph = dcc.Graph(id=\"my-graph\", figure=px.strip(df.query(\"year == 2007\"), x=\"lifeExp\", color=\"continent\"))\n",
    "\n",
    "app.layout = html.Div(style={\"backgroundColor\": \"white\"},children=[my_H1, my_H2, my_dropdown, my_graph]) # <h1>My dash app.</h1>\n",
    "\n",
    "\n",
    "@callback(\n",
    "        Output(my_graph, component_property=\"figure\"),\n",
    "        Input(my_dropdown, component_property=\"value\")\n",
    ")\n",
    "def select_year(year):\n",
    "    return px.strip(df.query(\"year == @year\"), x=\"lifeExp\", color=\"continent\")\n",
    "\n",
    "# app.run(debug=True)"
   ]
  }
 ],
 "metadata": {
  "kernelspec": {
   "display_name": "Dataprocessing-Rasmus-Berghall-dOpNyC7R",
   "language": "python",
   "name": "python3"
  },
  "language_info": {
   "codemirror_mode": {
    "name": "ipython",
    "version": 3
   },
   "file_extension": ".py",
   "mimetype": "text/x-python",
   "name": "python",
   "nbconvert_exporter": "python",
   "pygments_lexer": "ipython3",
   "version": "3.11.5"
  }
 },
 "nbformat": 4,
 "nbformat_minor": 2
}
