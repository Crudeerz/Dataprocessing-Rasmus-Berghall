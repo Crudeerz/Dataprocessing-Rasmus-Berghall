{
 "cells": [
  {
   "cell_type": "markdown",
   "metadata": {},
   "source": [
    "- **Pseudonymisation:** Replacing identifying information in such way that the process can be reversed (with extra information)\n",
    "\n",
    "- **Anonymisation:** Replacing identifying information with the *intent* to be fully irreversible.\n",
    "\n",
    "### Techniques for anoymisation  \n",
    "- **Hashing / Crypto:** Rasmus Berghäll -> abasui9817y37823827ygrj327g\n",
    "- **Data masking:** rasmus@gmail.com -> r*****@gmail.com\n",
    "- **Generelization:** Age: 34 -> Age: 30-40\n",
    "- **Aggregation:** Group data\n",
    "- **Removing data:** Remove column/columns from dataset."
   ]
  },
  {
   "cell_type": "markdown",
   "metadata": {},
   "source": [
    "## Anonymisation with hash"
   ]
  },
  {
   "cell_type": "code",
   "execution_count": 13,
   "metadata": {},
   "outputs": [
    {
     "data": {
      "text/plain": [
       "'d22b947784e2fb59e57d66264dce9bb431373687cc19f6e5d8d53d787331f90a'"
      ]
     },
     "execution_count": 13,
     "metadata": {},
     "output_type": "execute_result"
    }
   ],
   "source": [
    "import hashlib as hl\n",
    "import pandas as pd\n",
    "\n",
    "\n",
    "text = \"top secret information\".encode('utf-8')\n",
    "\n",
    "hl.sha256(text).hexdigest()"
   ]
  },
  {
   "cell_type": "code",
   "execution_count": 14,
   "metadata": {},
   "outputs": [
    {
     "data": {
      "text/html": [
       "<div>\n",
       "<style scoped>\n",
       "    .dataframe tbody tr th:only-of-type {\n",
       "        vertical-align: middle;\n",
       "    }\n",
       "\n",
       "    .dataframe tbody tr th {\n",
       "        vertical-align: top;\n",
       "    }\n",
       "\n",
       "    .dataframe thead th {\n",
       "        text-align: right;\n",
       "    }\n",
       "</style>\n",
       "<table border=\"1\" class=\"dataframe\">\n",
       "  <thead>\n",
       "    <tr style=\"text-align: right;\">\n",
       "      <th></th>\n",
       "      <th>first_name</th>\n",
       "      <th>last_name</th>\n",
       "      <th>job_title</th>\n",
       "      <th>salary</th>\n",
       "      <th>department</th>\n",
       "    </tr>\n",
       "  </thead>\n",
       "  <tbody>\n",
       "    <tr>\n",
       "      <th>0</th>\n",
       "      <td>John</td>\n",
       "      <td>Doe</td>\n",
       "      <td>Sales Director</td>\n",
       "      <td>120000</td>\n",
       "      <td>Sales</td>\n",
       "    </tr>\n",
       "    <tr>\n",
       "      <th>1</th>\n",
       "      <td>Jane</td>\n",
       "      <td>Smith</td>\n",
       "      <td>HR Coordinator</td>\n",
       "      <td>60000</td>\n",
       "      <td>Human Resources</td>\n",
       "    </tr>\n",
       "  </tbody>\n",
       "</table>\n",
       "</div>"
      ],
      "text/plain": [
       "  first_name last_name       job_title  salary       department\n",
       "0       John       Doe  Sales Director  120000            Sales\n",
       "1       Jane     Smith  HR Coordinator   60000  Human Resources"
      ]
     },
     "execution_count": 14,
     "metadata": {},
     "output_type": "execute_result"
    }
   ],
   "source": [
    "employees = pd.read_json(\"../Data/employees.json\")\n",
    "employees.head(2)"
   ]
  },
  {
   "cell_type": "code",
   "execution_count": 16,
   "metadata": {},
   "outputs": [],
   "source": [
    "employees[\"first_name\"] = employees[\"first_name\"].apply(lambda name: hl.sha256(name.encode()).hexdigest())"
   ]
  },
  {
   "cell_type": "code",
   "execution_count": 23,
   "metadata": {},
   "outputs": [
    {
     "name": "stdout",
     "output_type": "stream",
     "text": [
      "a8cfcd74832004951b4408cdb0a5dbcd8c7e52d43f7fe244bf720582e05241da\n",
      "                                          first_name last_name  \\\n",
      "0  a8cfcd74832004951b4408cdb0a5dbcd8c7e52d43f7fe2...       Doe   \n",
      "\n",
      "        job_title  salary department  \n",
      "0  Sales Director  120000      Sales  \n",
      "4f23798d92708359b734a18172c9c864f1d48044a754115a0d4b843bca3a5332\n",
      "                                          first_name last_name  \\\n",
      "1  4f23798d92708359b734a18172c9c864f1d48044a75411...     Smith   \n",
      "\n",
      "        job_title  salary       department  \n",
      "1  HR Coordinator   60000  Human Resources  \n"
     ]
    }
   ],
   "source": [
    "# name = input(\"Enter a name: \")\n",
    "\n",
    "namelist = [\"John\", \"Jane\"]\n",
    "for name in namelist: \n",
    "    name_hash = hl.sha256(name.encode()).hexdigest()\n",
    "    print(name_hash)\n",
    "    print(employees.query(\"first_name == @name_hash\"))\n",
    "\n",
    "# employees.head()"
   ]
  }
 ],
 "metadata": {
  "kernelspec": {
   "display_name": "Dataprocessing-Rasmus-Berghall-dOpNyC7R",
   "language": "python",
   "name": "python3"
  },
  "language_info": {
   "codemirror_mode": {
    "name": "ipython",
    "version": 3
   },
   "file_extension": ".py",
   "mimetype": "text/x-python",
   "name": "python",
   "nbconvert_exporter": "python",
   "pygments_lexer": "ipython3",
   "version": "3.11.5"
  }
 },
 "nbformat": 4,
 "nbformat_minor": 2
}
